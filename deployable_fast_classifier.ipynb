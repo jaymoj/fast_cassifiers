{
  "nbformat": 4,
  "nbformat_minor": 0,
  "metadata": {
    "colab": {
      "provenance": [],
      "authorship_tag": "ABX9TyPZl31n9xRZTAgkSF9Bpv3i",
      "include_colab_link": true
    },
    "kernelspec": {
      "name": "python3",
      "display_name": "Python 3"
    },
    "language_info": {
      "name": "python"
    },
    "widgets": {
      "application/vnd.jupyter.widget-state+json": {
        "3619868ab8b5490ebd4ca5af41c495bf": {
          "model_module": "@jupyter-widgets/controls",
          "model_name": "VBoxModel",
          "model_module_version": "1.5.0",
          "state": {
            "_dom_classes": [],
            "_model_module": "@jupyter-widgets/controls",
            "_model_module_version": "1.5.0",
            "_model_name": "VBoxModel",
            "_view_count": null,
            "_view_module": "@jupyter-widgets/controls",
            "_view_module_version": "1.5.0",
            "_view_name": "VBoxView",
            "box_style": "",
            "children": [
              "IPY_MODEL_6f07b53d87074e37847ca97c31ef59f6",
              "IPY_MODEL_f502b20ea442405dbefefc180b28e3ae",
              "IPY_MODEL_efa1cd79f92b45e6b420bf16b10fcc70",
              "IPY_MODEL_5f46c35be42c4974a928df6ecc087eb5"
            ],
            "layout": "IPY_MODEL_95f3f6772d8c4db4a1dbca78ca3f6077"
          }
        },
        "6f07b53d87074e37847ca97c31ef59f6": {
          "model_module": "@jupyter-widgets/controls",
          "model_name": "LabelModel",
          "model_module_version": "1.5.0",
          "state": {
            "_dom_classes": [],
            "_model_module": "@jupyter-widgets/controls",
            "_model_module_version": "1.5.0",
            "_model_name": "LabelModel",
            "_view_count": null,
            "_view_module": "@jupyter-widgets/controls",
            "_view_module_version": "1.5.0",
            "_view_name": "LabelView",
            "description": "",
            "description_tooltip": null,
            "layout": "IPY_MODEL_23f36ee9a27040e3bb1f437356f5fcae",
            "placeholder": "​",
            "style": "IPY_MODEL_e7f56de370a944f691b866131e352d6a",
            "value": "This classifier can predict a cat or car or dog or fist or forest. Please upload an image and click classify!"
          }
        },
        "f502b20ea442405dbefefc180b28e3ae": {
          "model_module": "@jupyter-widgets/controls",
          "model_name": "FileUploadModel",
          "model_module_version": "1.5.0",
          "state": {
            "_counter": 1,
            "_dom_classes": [],
            "_model_module": "@jupyter-widgets/controls",
            "_model_module_version": "1.5.0",
            "_model_name": "FileUploadModel",
            "_view_count": null,
            "_view_module": "@jupyter-widgets/controls",
            "_view_module_version": "1.5.0",
            "_view_name": "FileUploadView",
            "accept": "",
            "button_style": "",
            "data": [
              null
            ],
            "description": "Upload",
            "description_tooltip": null,
            "disabled": false,
            "error": "",
            "icon": "upload",
            "layout": "IPY_MODEL_8dba55d70c1d44ba8ef37ab3433496bf",
            "metadata": [
              {
                "name": "cat.jpg",
                "type": "image/jpeg",
                "size": 28739,
                "lastModified": 1687559039094
              }
            ],
            "multiple": false,
            "style": "IPY_MODEL_a36072c64c684989b972d7cb25a0284f"
          }
        },
        "efa1cd79f92b45e6b420bf16b10fcc70": {
          "model_module": "@jupyter-widgets/output",
          "model_name": "OutputModel",
          "model_module_version": "1.0.0",
          "state": {
            "_dom_classes": [],
            "_model_module": "@jupyter-widgets/output",
            "_model_module_version": "1.0.0",
            "_model_name": "OutputModel",
            "_view_count": null,
            "_view_module": "@jupyter-widgets/output",
            "_view_module_version": "1.0.0",
            "_view_name": "OutputView",
            "layout": "IPY_MODEL_62a3708e2f4a4bc4a2e01c27153723ca",
            "msg_id": "",
            "outputs": [
              {
                "output_type": "display_data",
                "data": {
                  "text/plain": "<PIL.Image.Image image mode=RGB size=128x102>",
                  "image/png": "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\n"
                },
                "metadata": {}
              }
            ]
          }
        },
        "5f46c35be42c4974a928df6ecc087eb5": {
          "model_module": "@jupyter-widgets/controls",
          "model_name": "LabelModel",
          "model_module_version": "1.5.0",
          "state": {
            "_dom_classes": [],
            "_model_module": "@jupyter-widgets/controls",
            "_model_module_version": "1.5.0",
            "_model_name": "LabelModel",
            "_view_count": null,
            "_view_module": "@jupyter-widgets/controls",
            "_view_module_version": "1.5.0",
            "_view_name": "LabelView",
            "description": "",
            "description_tooltip": null,
            "layout": "IPY_MODEL_f9c0c247cf59431a9636b2afb92393b7",
            "placeholder": "​",
            "style": "IPY_MODEL_5de5892370bf48cdab00bad7b0c1c42a",
            "value": "Prediction: cat; Probability: 1.0000"
          }
        },
        "95f3f6772d8c4db4a1dbca78ca3f6077": {
          "model_module": "@jupyter-widgets/base",
          "model_name": "LayoutModel",
          "model_module_version": "1.2.0",
          "state": {
            "_model_module": "@jupyter-widgets/base",
            "_model_module_version": "1.2.0",
            "_model_name": "LayoutModel",
            "_view_count": null,
            "_view_module": "@jupyter-widgets/base",
            "_view_module_version": "1.2.0",
            "_view_name": "LayoutView",
            "align_content": null,
            "align_items": null,
            "align_self": null,
            "border": null,
            "bottom": null,
            "display": null,
            "flex": null,
            "flex_flow": null,
            "grid_area": null,
            "grid_auto_columns": null,
            "grid_auto_flow": null,
            "grid_auto_rows": null,
            "grid_column": null,
            "grid_gap": null,
            "grid_row": null,
            "grid_template_areas": null,
            "grid_template_columns": null,
            "grid_template_rows": null,
            "height": null,
            "justify_content": null,
            "justify_items": null,
            "left": null,
            "margin": null,
            "max_height": null,
            "max_width": null,
            "min_height": null,
            "min_width": null,
            "object_fit": null,
            "object_position": null,
            "order": null,
            "overflow": null,
            "overflow_x": null,
            "overflow_y": null,
            "padding": null,
            "right": null,
            "top": null,
            "visibility": null,
            "width": null
          }
        },
        "23f36ee9a27040e3bb1f437356f5fcae": {
          "model_module": "@jupyter-widgets/base",
          "model_name": "LayoutModel",
          "model_module_version": "1.2.0",
          "state": {
            "_model_module": "@jupyter-widgets/base",
            "_model_module_version": "1.2.0",
            "_model_name": "LayoutModel",
            "_view_count": null,
            "_view_module": "@jupyter-widgets/base",
            "_view_module_version": "1.2.0",
            "_view_name": "LayoutView",
            "align_content": null,
            "align_items": null,
            "align_self": null,
            "border": null,
            "bottom": null,
            "display": null,
            "flex": null,
            "flex_flow": null,
            "grid_area": null,
            "grid_auto_columns": null,
            "grid_auto_flow": null,
            "grid_auto_rows": null,
            "grid_column": null,
            "grid_gap": null,
            "grid_row": null,
            "grid_template_areas": null,
            "grid_template_columns": null,
            "grid_template_rows": null,
            "height": null,
            "justify_content": null,
            "justify_items": null,
            "left": null,
            "margin": null,
            "max_height": null,
            "max_width": null,
            "min_height": null,
            "min_width": null,
            "object_fit": null,
            "object_position": null,
            "order": null,
            "overflow": null,
            "overflow_x": null,
            "overflow_y": null,
            "padding": null,
            "right": null,
            "top": null,
            "visibility": null,
            "width": null
          }
        },
        "e7f56de370a944f691b866131e352d6a": {
          "model_module": "@jupyter-widgets/controls",
          "model_name": "DescriptionStyleModel",
          "model_module_version": "1.5.0",
          "state": {
            "_model_module": "@jupyter-widgets/controls",
            "_model_module_version": "1.5.0",
            "_model_name": "DescriptionStyleModel",
            "_view_count": null,
            "_view_module": "@jupyter-widgets/base",
            "_view_module_version": "1.2.0",
            "_view_name": "StyleView",
            "description_width": ""
          }
        },
        "8dba55d70c1d44ba8ef37ab3433496bf": {
          "model_module": "@jupyter-widgets/base",
          "model_name": "LayoutModel",
          "model_module_version": "1.2.0",
          "state": {
            "_model_module": "@jupyter-widgets/base",
            "_model_module_version": "1.2.0",
            "_model_name": "LayoutModel",
            "_view_count": null,
            "_view_module": "@jupyter-widgets/base",
            "_view_module_version": "1.2.0",
            "_view_name": "LayoutView",
            "align_content": null,
            "align_items": null,
            "align_self": null,
            "border": null,
            "bottom": null,
            "display": null,
            "flex": null,
            "flex_flow": null,
            "grid_area": null,
            "grid_auto_columns": null,
            "grid_auto_flow": null,
            "grid_auto_rows": null,
            "grid_column": null,
            "grid_gap": null,
            "grid_row": null,
            "grid_template_areas": null,
            "grid_template_columns": null,
            "grid_template_rows": null,
            "height": null,
            "justify_content": null,
            "justify_items": null,
            "left": null,
            "margin": null,
            "max_height": null,
            "max_width": null,
            "min_height": null,
            "min_width": null,
            "object_fit": null,
            "object_position": null,
            "order": null,
            "overflow": null,
            "overflow_x": null,
            "overflow_y": null,
            "padding": null,
            "right": null,
            "top": null,
            "visibility": null,
            "width": null
          }
        },
        "a36072c64c684989b972d7cb25a0284f": {
          "model_module": "@jupyter-widgets/controls",
          "model_name": "ButtonStyleModel",
          "model_module_version": "1.5.0",
          "state": {
            "_model_module": "@jupyter-widgets/controls",
            "_model_module_version": "1.5.0",
            "_model_name": "ButtonStyleModel",
            "_view_count": null,
            "_view_module": "@jupyter-widgets/base",
            "_view_module_version": "1.2.0",
            "_view_name": "StyleView",
            "button_color": null,
            "font_weight": ""
          }
        },
        "f9c0c247cf59431a9636b2afb92393b7": {
          "model_module": "@jupyter-widgets/base",
          "model_name": "LayoutModel",
          "model_module_version": "1.2.0",
          "state": {
            "_model_module": "@jupyter-widgets/base",
            "_model_module_version": "1.2.0",
            "_model_name": "LayoutModel",
            "_view_count": null,
            "_view_module": "@jupyter-widgets/base",
            "_view_module_version": "1.2.0",
            "_view_name": "LayoutView",
            "align_content": null,
            "align_items": null,
            "align_self": null,
            "border": null,
            "bottom": null,
            "display": null,
            "flex": null,
            "flex_flow": null,
            "grid_area": null,
            "grid_auto_columns": null,
            "grid_auto_flow": null,
            "grid_auto_rows": null,
            "grid_column": null,
            "grid_gap": null,
            "grid_row": null,
            "grid_template_areas": null,
            "grid_template_columns": null,
            "grid_template_rows": null,
            "height": null,
            "justify_content": null,
            "justify_items": null,
            "left": null,
            "margin": null,
            "max_height": null,
            "max_width": null,
            "min_height": null,
            "min_width": null,
            "object_fit": null,
            "object_position": null,
            "order": null,
            "overflow": null,
            "overflow_x": null,
            "overflow_y": null,
            "padding": null,
            "right": null,
            "top": null,
            "visibility": null,
            "width": null
          }
        },
        "5de5892370bf48cdab00bad7b0c1c42a": {
          "model_module": "@jupyter-widgets/controls",
          "model_name": "DescriptionStyleModel",
          "model_module_version": "1.5.0",
          "state": {
            "_model_module": "@jupyter-widgets/controls",
            "_model_module_version": "1.5.0",
            "_model_name": "DescriptionStyleModel",
            "_view_count": null,
            "_view_module": "@jupyter-widgets/base",
            "_view_module_version": "1.2.0",
            "_view_name": "StyleView",
            "description_width": ""
          }
        },
        "62a3708e2f4a4bc4a2e01c27153723ca": {
          "model_module": "@jupyter-widgets/base",
          "model_name": "LayoutModel",
          "model_module_version": "1.2.0",
          "state": {
            "_model_module": "@jupyter-widgets/base",
            "_model_module_version": "1.2.0",
            "_model_name": "LayoutModel",
            "_view_count": null,
            "_view_module": "@jupyter-widgets/base",
            "_view_module_version": "1.2.0",
            "_view_name": "LayoutView",
            "align_content": null,
            "align_items": null,
            "align_self": null,
            "border": null,
            "bottom": null,
            "display": null,
            "flex": null,
            "flex_flow": null,
            "grid_area": null,
            "grid_auto_columns": null,
            "grid_auto_flow": null,
            "grid_auto_rows": null,
            "grid_column": null,
            "grid_gap": null,
            "grid_row": null,
            "grid_template_areas": null,
            "grid_template_columns": null,
            "grid_template_rows": null,
            "height": null,
            "justify_content": null,
            "justify_items": null,
            "left": null,
            "margin": null,
            "max_height": null,
            "max_width": null,
            "min_height": null,
            "min_width": null,
            "object_fit": null,
            "object_position": null,
            "order": null,
            "overflow": null,
            "overflow_x": null,
            "overflow_y": null,
            "padding": null,
            "right": null,
            "top": null,
            "visibility": null,
            "width": null
          }
        }
      }
    }
  },
  "cells": [
    {
      "cell_type": "markdown",
      "metadata": {
        "id": "view-in-github",
        "colab_type": "text"
      },
      "source": [
        "<a href=\"https://colab.research.google.com/github/jaymoj/fast_cassifiers/blob/main/deployable_fast_classifier.ipynb\" target=\"_parent\"><img src=\"https://colab.research.google.com/assets/colab-badge.svg\" alt=\"Open In Colab\"/></a>"
      ]
    },
    {
      "cell_type": "code",
      "execution_count": 3,
      "metadata": {
        "colab": {
          "base_uri": "https://localhost:8080/"
        },
        "id": "CFKVF78l23wN",
        "outputId": "276bb13d-45cd-44bb-839d-8d1a97b73a95"
      },
      "outputs": [
        {
          "output_type": "stream",
          "name": "stdout",
          "text": [
            "Looking in indexes: https://pypi.org/simple, https://us-python.pkg.dev/colab-wheels/public/simple/\n",
            "Requirement already satisfied: voila in /usr/local/lib/python3.10/dist-packages (0.4.0)\n",
            "Requirement already satisfied: jupyter-client<=7.4.1,>=6.1.3 in /usr/local/lib/python3.10/dist-packages (from voila) (6.1.12)\n",
            "Requirement already satisfied: jupyter-core>=4.11.0 in /usr/local/lib/python3.10/dist-packages (from voila) (5.3.1)\n",
            "Requirement already satisfied: jupyter-server<2.0.0,>=1.18 in /usr/local/lib/python3.10/dist-packages (from voila) (1.24.0)\n",
            "Requirement already satisfied: jupyterlab-server<3,>=2.3.0 in /usr/local/lib/python3.10/dist-packages (from voila) (2.23.0)\n",
            "Requirement already satisfied: nbclient<0.8,>=0.4.0 in /usr/local/lib/python3.10/dist-packages (from voila) (0.7.4)\n",
            "Requirement already satisfied: nbconvert<8,>=6.4.5 in /usr/local/lib/python3.10/dist-packages (from voila) (6.5.4)\n",
            "Requirement already satisfied: traitlets<6,>=5.0.3 in /usr/local/lib/python3.10/dist-packages (from voila) (5.7.1)\n",
            "Requirement already satisfied: websockets>=9.0 in /usr/local/lib/python3.10/dist-packages (from voila) (11.0.3)\n",
            "Requirement already satisfied: pyzmq>=13 in /usr/local/lib/python3.10/dist-packages (from jupyter-client<=7.4.1,>=6.1.3->voila) (23.2.1)\n",
            "Requirement already satisfied: python-dateutil>=2.1 in /usr/local/lib/python3.10/dist-packages (from jupyter-client<=7.4.1,>=6.1.3->voila) (2.8.2)\n",
            "Requirement already satisfied: tornado>=4.1 in /usr/local/lib/python3.10/dist-packages (from jupyter-client<=7.4.1,>=6.1.3->voila) (6.3.1)\n",
            "Requirement already satisfied: platformdirs>=2.5 in /usr/local/lib/python3.10/dist-packages (from jupyter-core>=4.11.0->voila) (3.7.0)\n",
            "Requirement already satisfied: anyio<4,>=3.1.0 in /usr/local/lib/python3.10/dist-packages (from jupyter-server<2.0.0,>=1.18->voila) (3.7.0)\n",
            "Requirement already satisfied: argon2-cffi in /usr/local/lib/python3.10/dist-packages (from jupyter-server<2.0.0,>=1.18->voila) (21.3.0)\n",
            "Requirement already satisfied: jinja2 in /usr/local/lib/python3.10/dist-packages (from jupyter-server<2.0.0,>=1.18->voila) (3.1.2)\n",
            "Requirement already satisfied: nbformat>=5.2.0 in /usr/local/lib/python3.10/dist-packages (from jupyter-server<2.0.0,>=1.18->voila) (5.9.0)\n",
            "Requirement already satisfied: packaging in /usr/local/lib/python3.10/dist-packages (from jupyter-server<2.0.0,>=1.18->voila) (23.1)\n",
            "Requirement already satisfied: prometheus-client in /usr/local/lib/python3.10/dist-packages (from jupyter-server<2.0.0,>=1.18->voila) (0.17.0)\n",
            "Requirement already satisfied: Send2Trash in /usr/local/lib/python3.10/dist-packages (from jupyter-server<2.0.0,>=1.18->voila) (1.8.2)\n",
            "Requirement already satisfied: terminado>=0.8.3 in /usr/local/lib/python3.10/dist-packages (from jupyter-server<2.0.0,>=1.18->voila) (0.17.1)\n",
            "Requirement already satisfied: websocket-client in /usr/local/lib/python3.10/dist-packages (from jupyter-server<2.0.0,>=1.18->voila) (1.6.0)\n",
            "Requirement already satisfied: babel>=2.10 in /usr/local/lib/python3.10/dist-packages (from jupyterlab-server<3,>=2.3.0->voila) (2.12.1)\n",
            "Requirement already satisfied: json5>=0.9.0 in /usr/local/lib/python3.10/dist-packages (from jupyterlab-server<3,>=2.3.0->voila) (0.9.14)\n",
            "Requirement already satisfied: jsonschema>=4.17.3 in /usr/local/lib/python3.10/dist-packages (from jupyterlab-server<3,>=2.3.0->voila) (4.17.3)\n",
            "Requirement already satisfied: requests>=2.28 in /usr/local/lib/python3.10/dist-packages (from jupyterlab-server<3,>=2.3.0->voila) (2.31.0)\n",
            "Requirement already satisfied: lxml in /usr/local/lib/python3.10/dist-packages (from nbconvert<8,>=6.4.5->voila) (4.9.2)\n",
            "Requirement already satisfied: beautifulsoup4 in /usr/local/lib/python3.10/dist-packages (from nbconvert<8,>=6.4.5->voila) (4.11.2)\n",
            "Requirement already satisfied: bleach in /usr/local/lib/python3.10/dist-packages (from nbconvert<8,>=6.4.5->voila) (6.0.0)\n",
            "Requirement already satisfied: defusedxml in /usr/local/lib/python3.10/dist-packages (from nbconvert<8,>=6.4.5->voila) (0.7.1)\n",
            "Requirement already satisfied: entrypoints>=0.2.2 in /usr/local/lib/python3.10/dist-packages (from nbconvert<8,>=6.4.5->voila) (0.4)\n",
            "Requirement already satisfied: jupyterlab-pygments in /usr/local/lib/python3.10/dist-packages (from nbconvert<8,>=6.4.5->voila) (0.2.2)\n",
            "Requirement already satisfied: MarkupSafe>=2.0 in /usr/local/lib/python3.10/dist-packages (from nbconvert<8,>=6.4.5->voila) (2.1.3)\n",
            "Requirement already satisfied: mistune<2,>=0.8.1 in /usr/local/lib/python3.10/dist-packages (from nbconvert<8,>=6.4.5->voila) (0.8.4)\n",
            "Requirement already satisfied: pandocfilters>=1.4.1 in /usr/local/lib/python3.10/dist-packages (from nbconvert<8,>=6.4.5->voila) (1.5.0)\n",
            "Requirement already satisfied: pygments>=2.4.1 in /usr/local/lib/python3.10/dist-packages (from nbconvert<8,>=6.4.5->voila) (2.14.0)\n",
            "Requirement already satisfied: tinycss2 in /usr/local/lib/python3.10/dist-packages (from nbconvert<8,>=6.4.5->voila) (1.2.1)\n",
            "Requirement already satisfied: idna>=2.8 in /usr/local/lib/python3.10/dist-packages (from anyio<4,>=3.1.0->jupyter-server<2.0.0,>=1.18->voila) (3.4)\n",
            "Requirement already satisfied: sniffio>=1.1 in /usr/local/lib/python3.10/dist-packages (from anyio<4,>=3.1.0->jupyter-server<2.0.0,>=1.18->voila) (1.3.0)\n",
            "Requirement already satisfied: exceptiongroup in /usr/local/lib/python3.10/dist-packages (from anyio<4,>=3.1.0->jupyter-server<2.0.0,>=1.18->voila) (1.1.1)\n",
            "Requirement already satisfied: attrs>=17.4.0 in /usr/local/lib/python3.10/dist-packages (from jsonschema>=4.17.3->jupyterlab-server<3,>=2.3.0->voila) (23.1.0)\n",
            "Requirement already satisfied: pyrsistent!=0.17.0,!=0.17.1,!=0.17.2,>=0.14.0 in /usr/local/lib/python3.10/dist-packages (from jsonschema>=4.17.3->jupyterlab-server<3,>=2.3.0->voila) (0.19.3)\n",
            "Requirement already satisfied: fastjsonschema in /usr/local/lib/python3.10/dist-packages (from nbformat>=5.2.0->jupyter-server<2.0.0,>=1.18->voila) (2.17.1)\n",
            "Requirement already satisfied: six>=1.5 in /usr/local/lib/python3.10/dist-packages (from python-dateutil>=2.1->jupyter-client<=7.4.1,>=6.1.3->voila) (1.16.0)\n",
            "Requirement already satisfied: charset-normalizer<4,>=2 in /usr/local/lib/python3.10/dist-packages (from requests>=2.28->jupyterlab-server<3,>=2.3.0->voila) (2.0.12)\n",
            "Requirement already satisfied: urllib3<3,>=1.21.1 in /usr/local/lib/python3.10/dist-packages (from requests>=2.28->jupyterlab-server<3,>=2.3.0->voila) (1.26.16)\n",
            "Requirement already satisfied: certifi>=2017.4.17 in /usr/local/lib/python3.10/dist-packages (from requests>=2.28->jupyterlab-server<3,>=2.3.0->voila) (2023.5.7)\n",
            "Requirement already satisfied: ptyprocess in /usr/local/lib/python3.10/dist-packages (from terminado>=0.8.3->jupyter-server<2.0.0,>=1.18->voila) (0.7.0)\n",
            "Requirement already satisfied: argon2-cffi-bindings in /usr/local/lib/python3.10/dist-packages (from argon2-cffi->jupyter-server<2.0.0,>=1.18->voila) (21.2.0)\n",
            "Requirement already satisfied: soupsieve>1.2 in /usr/local/lib/python3.10/dist-packages (from beautifulsoup4->nbconvert<8,>=6.4.5->voila) (2.4.1)\n",
            "Requirement already satisfied: webencodings in /usr/local/lib/python3.10/dist-packages (from bleach->nbconvert<8,>=6.4.5->voila) (0.5.1)\n",
            "Requirement already satisfied: cffi>=1.0.1 in /usr/local/lib/python3.10/dist-packages (from argon2-cffi-bindings->argon2-cffi->jupyter-server<2.0.0,>=1.18->voila) (1.15.1)\n",
            "Requirement already satisfied: pycparser in /usr/local/lib/python3.10/dist-packages (from cffi>=1.0.1->argon2-cffi-bindings->argon2-cffi->jupyter-server<2.0.0,>=1.18->voila) (2.21)\n",
            "Enabling: voila\n",
            "- Writing config: /usr/etc/jupyter\n",
            "    - Validating...\n",
            "      voila 0.4.0 \u001b[32mOK\u001b[0m\n"
          ]
        }
      ],
      "source": [
        "!pip install voila\n",
        "!jupyter serverextension enable --sys-prefix voila\n",
        "from fastai.vision.all import *\n",
        "from fastai.vision.widgets import *"
      ]
    },
    {
      "cell_type": "code",
      "source": [
        "path = Path()\n",
        "path.ls()"
      ],
      "metadata": {
        "colab": {
          "base_uri": "https://localhost:8080/"
        },
        "id": "bpAFgV-PXBWp",
        "outputId": "9b2bf272-7f05-42b5-c919-e8cbf079e013"
      },
      "execution_count": 6,
      "outputs": [
        {
          "output_type": "execute_result",
          "data": {
            "text/plain": [
              "(#4) [Path('.config'),Path('.ipynb_checkpoints'),Path('car_fish_bird_dog_forrest.pkl'),Path('sample_data')]"
            ]
          },
          "metadata": {},
          "execution_count": 6
        }
      ]
    },
    {
      "cell_type": "code",
      "source": [
        "path = Path()\n",
        "learn_inf = load_learner(path/'car_fish_bird_dog_forrest.pkl', cpu=True)\n",
        "btn_upload = widgets.FileUpload()\n",
        "out_pl = widgets.Output()\n",
        "lbl_pred = widgets.Label()"
      ],
      "metadata": {
        "id": "bEu3RFa9UvQJ"
      },
      "execution_count": 7,
      "outputs": []
    },
    {
      "cell_type": "code",
      "source": [
        "def on_data_change(change):\n",
        "    lbl_pred.value = ''\n",
        "    img = PILImage.create(btn_upload.data[-1])\n",
        "    out_pl.clear_output()\n",
        "    with out_pl: display(img.to_thumb(128,128))\n",
        "    pred,pred_idx,probs = learn_inf.predict(img)\n",
        "    lbl_pred.value = f'Prediction: {pred}; Probability: {probs[pred_idx]:.04f}'"
      ],
      "metadata": {
        "id": "5d73A288c9xI"
      },
      "execution_count": 9,
      "outputs": []
    },
    {
      "cell_type": "code",
      "source": [
        "btn_upload.observe(on_data_change, names=['data'])\n"
      ],
      "metadata": {
        "id": "IFY4sCY9dRg-"
      },
      "execution_count": 10,
      "outputs": []
    },
    {
      "cell_type": "code",
      "source": [
        "display(VBox([widgets.Label('This classifier can predict a cat or car or dog or fist or forest. Please upload an image and click classify!'), btn_upload, out_pl, lbl_pred]))"
      ],
      "metadata": {
        "colab": {
          "base_uri": "https://localhost:8080/",
          "height": 215,
          "referenced_widgets": [
            "3619868ab8b5490ebd4ca5af41c495bf",
            "6f07b53d87074e37847ca97c31ef59f6",
            "f502b20ea442405dbefefc180b28e3ae",
            "efa1cd79f92b45e6b420bf16b10fcc70",
            "5f46c35be42c4974a928df6ecc087eb5",
            "95f3f6772d8c4db4a1dbca78ca3f6077",
            "23f36ee9a27040e3bb1f437356f5fcae",
            "e7f56de370a944f691b866131e352d6a",
            "8dba55d70c1d44ba8ef37ab3433496bf",
            "a36072c64c684989b972d7cb25a0284f",
            "f9c0c247cf59431a9636b2afb92393b7",
            "5de5892370bf48cdab00bad7b0c1c42a",
            "62a3708e2f4a4bc4a2e01c27153723ca"
          ]
        },
        "id": "KGIRPsNXdePw",
        "outputId": "dc1376a6-e6f3-424f-e58d-6738097ec561"
      },
      "execution_count": 11,
      "outputs": [
        {
          "output_type": "display_data",
          "data": {
            "text/plain": [
              "VBox(children=(Label(value='This classifier can predict a cat or car or dog or fist or forest. Please upload a…"
            ],
            "application/vnd.jupyter.widget-view+json": {
              "version_major": 2,
              "version_minor": 0,
              "model_id": "3619868ab8b5490ebd4ca5af41c495bf"
            }
          },
          "metadata": {}
        },
        {
          "output_type": "display_data",
          "data": {
            "text/plain": [
              "<IPython.core.display.HTML object>"
            ],
            "text/html": [
              "\n",
              "<style>\n",
              "    /* Turns off some styling */\n",
              "    progress {\n",
              "        /* gets rid of default border in Firefox and Opera. */\n",
              "        border: none;\n",
              "        /* Needs to be in here for Safari polyfill so background images work as expected. */\n",
              "        background-size: auto;\n",
              "    }\n",
              "    progress:not([value]), progress:not([value])::-webkit-progress-bar {\n",
              "        background: repeating-linear-gradient(45deg, #7e7e7e, #7e7e7e 10px, #5c5c5c 10px, #5c5c5c 20px);\n",
              "    }\n",
              "    .progress-bar-interrupted, .progress-bar-interrupted::-webkit-progress-bar {\n",
              "        background: #F44336;\n",
              "    }\n",
              "</style>\n"
            ]
          },
          "metadata": {}
        },
        {
          "output_type": "display_data",
          "data": {
            "text/plain": [
              "<IPython.core.display.HTML object>"
            ],
            "text/html": []
          },
          "metadata": {}
        }
      ]
    }
  ]
}